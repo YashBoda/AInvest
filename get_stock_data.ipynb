{
 "cells": [
  {
   "cell_type": "code",
   "execution_count": 1,
   "id": "ad930a3b-718b-4317-8ff9-025b101d3075",
   "metadata": {},
   "outputs": [],
   "source": [
    "# import sys\n",
    "# !{sys.executable} -m pip install yfinance"
   ]
  },
  {
   "cell_type": "code",
   "execution_count": 2,
   "id": "19546712-e87c-4323-8383-fcc23ec34d96",
   "metadata": {},
   "outputs": [],
   "source": [
    "import pandas as pd\n",
    "import numpy as np\n",
    "import yfinance as yf\n",
    "import requests\n",
    "import import_ipynb\n",
    "import warnings\n",
    "warnings.filterwarnings('ignore')"
   ]
  },
  {
   "cell_type": "code",
   "execution_count": 3,
   "id": "dcc846b3-ab4d-4aea-b2bf-60aaa866d7cf",
   "metadata": {},
   "outputs": [],
   "source": [
    "def get_all_companies_basic_details():\n",
    "    # URL of the Wikipedia page containing the S&P 500 company list\n",
    "    url = 'https://en.wikipedia.org/wiki/List_of_S%26P_500_companies'\n",
    "    # Read the first table from the page\n",
    "    companies_df = pd.read_html(url)[0]\n",
    "    companies_df = pd.DataFrame(companies_df)\n",
    "    return companies_df"
   ]
  },
  {
   "cell_type": "code",
   "execution_count": 4,
   "id": "dc63fec7-0f40-4408-83ae-339b64a31a6d",
   "metadata": {},
   "outputs": [],
   "source": [
    "def get_historical_prices_data(stock_tickers : list , period : str , interval : str):\n",
    "    '''\n",
    "    tickers : str, list\n",
    "        List of tickers to download\n",
    "    period : str\n",
    "        Time line between which data is required\n",
    "        Valid periods: 1d,5d,1mo,3mo,6mo,1y,2y,5y,10y,ytd,max\n",
    "        Default: 1mo\n",
    "        Either Use period parameter or use start and end\n",
    "    interval : str\n",
    "        Valid intervals: 1m,2m,5m,15m,30m,60m,90m,1h,1d,5d,1wk,1mo,3mo\n",
    "        Intraday data cannot extend last 60 days\n",
    "    '''\n",
    "    \n",
    "    data = yf.download(tickers=stock_tickers, period=period, interval=interval)\n",
    "    hist_price_df = pd.DataFrame(data)\n",
    "    return hist_price_df"
   ]
  },
  {
   "cell_type": "code",
   "execution_count": 5,
   "id": "f7f72492-4744-44d9-a94c-404bc9a9961d",
   "metadata": {},
   "outputs": [],
   "source": [
    "def get_current_prices(stock_tickers : list):\n",
    "\n",
    "    # print(stock_tickers)\n",
    "\n",
    "    prices = {k:None for k in stock_tickers}\n",
    "    for stock_ticker in stock_tickers:\n",
    "        \n",
    "        stock = yf.Ticker(stock_ticker)\n",
    "        price = stock.history(period=\"1d\")[\"Close\"].iloc[-1]\n",
    "        prices[stock_ticker] = price.item()\n",
    "\n",
    "    return prices"
   ]
  }
 ],
 "metadata": {
  "kernelspec": {
   "display_name": "Python (airline-env)",
   "language": "python",
   "name": "airline-env"
  },
  "language_info": {
   "codemirror_mode": {
    "name": "ipython",
    "version": 3
   },
   "file_extension": ".py",
   "mimetype": "text/x-python",
   "name": "python",
   "nbconvert_exporter": "python",
   "pygments_lexer": "ipython3",
   "version": "3.10.0"
  }
 },
 "nbformat": 4,
 "nbformat_minor": 5
}
