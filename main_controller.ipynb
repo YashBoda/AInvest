{
 "cells": [
  {
   "cell_type": "code",
   "execution_count": 1,
   "id": "ae6eff31-c7f8-49ec-bb5a-da9d3612e3a0",
   "metadata": {},
   "outputs": [],
   "source": [
    "# # !pip install yfinance\n",
    "# import sys\n",
    "# !{sys.executable} -m pip install langchain langgraph dotenv\n",
    "# !{sys.executable} -m pip install -U langchain-google-genai\n",
    "# import sys\n",
    "# !{sys.executable} -m pip install langchain-community\n",
    "# !{sys.executable} -m pip install langchain_experimental"
   ]
  },
  {
   "cell_type": "code",
   "execution_count": 2,
   "id": "adf87d00-961f-40b2-9763-d2d0fd7ecd0d",
   "metadata": {},
   "outputs": [],
   "source": [
    "# from langchain.tools.python.tool import PythonREPLTool\n",
    "from typing import Annotated\n",
    "from typing_extensions import TypedDict\n",
    "from langchain.chat_models import init_chat_model\n",
    "from langgraph.graph import StateGraph, START, END\n",
    "from langgraph.graph.message import add_messages\n",
    "from langchain_core.tools import tool\n",
    "from langgraph.prebuilt import ToolNode, tools_condition\n",
    "from langgraph.types import interrupt,Command\n",
    "from langchain_experimental.tools import PythonREPLTool\n",
    "import pandas, numpy\n",
    "import yfinance as yf\n",
    "import requests\n",
    "from dotenv import load_dotenv\n",
    "import os\n",
    "load_dotenv()\n",
    "\n",
    "import import_ipynb\n",
    "import warnings\n",
    "warnings.filterwarnings('ignore')\n",
    "\n",
    "import import_ipynb\n",
    "from web_search import web_search, get_recent_news, get_total_analysis\n",
    "from get_stock_data import get_all_companies_basic_details, get_historical_prices_data, get_current_prices"
   ]
  },
  {
   "cell_type": "code",
   "execution_count": 3,
   "id": "a3ce4f54-4c71-46e7-bf13-cb1f6e1789a8",
   "metadata": {},
   "outputs": [],
   "source": [
    "from langgraph.checkpoint.memory import MemorySaver\n",
    "memory = MemorySaver()"
   ]
  },
  {
   "cell_type": "code",
   "execution_count": 4,
   "id": "3fe563e5-d13e-407d-84ee-fc8f5f43f809",
   "metadata": {},
   "outputs": [],
   "source": [
    "class State(TypedDict):\n",
    "    # messages : list\n",
    "    messages : Annotated[list, add_messages]"
   ]
  },
  {
   "cell_type": "code",
   "execution_count": 5,
   "id": "0ee3c3ac-cf10-4d94-a655-1d1ea797823f",
   "metadata": {},
   "outputs": [],
   "source": [
    "@tool\n",
    "def get_all_companies_basic_details_():\n",
    "    \"\"\"\n",
    "    Returns a table of basic details of companies including Symbol, Security, Sector, Sub-Industry,\n",
    "    Headquarters Location, Date Added, CIK, and Founded.\n",
    "\n",
    "    This tool does not take any input and always returns the full dataset.\n",
    "    \"\"\"\n",
    "    result = get_all_companies_basic_details()\n",
    "    return result\n",
    "\n",
    "@tool\n",
    "def get_current_stock_price(symbol: str) -> str:\n",
    "    '''\n",
    "    Return the current stock price of the stock ticker symbol.\n",
    "    :param symbol: stock ticker symbol\n",
    "    :return: current price of the stock\n",
    "    '''\n",
    "    return get_current_prices([symbol])\n",
    "\n",
    "@tool\n",
    "def buy_stocks(symbol: str, quantity: int, total_price: float) -> str:\n",
    "    '''\n",
    "    Buy stocks given the stock ticker symbol and quantity\n",
    "    '''\n",
    "    decision = interrupt(f'Approve buying {quantity} {symbol} stocks for {total_price:.2f}?')\n",
    "\n",
    "    if decision == 'yes':\n",
    "        return f'You bought {quantity} {symbol} stocks for {total_price}.'\n",
    "    else:\n",
    "        return f'Buying declined.'\n",
    "\n",
    "@tool\n",
    "def get_recent_news_about_stock(symbol: str):\n",
    "    '''\n",
    "    Retrieves recent news articles related to the stock ticker symbol from online sources like Google News.\n",
    "    '''\n",
    "    result = get_recent_news(symbol)\n",
    "    return result\n",
    "\n",
    "@tool\n",
    "def search_web(query: str):\n",
    "    '''\n",
    "    Use this tool to retrieve current or unknown information from the internet.\n",
    "    This is especially useful for answering anything not available in the model's training data. \n",
    "    '''\n",
    "    result = web_search(query)\n",
    "    return result\n",
    "\n",
    "@tool\n",
    "def get_historical_prices_data_of_stock(symbols: list[str], period: str, interval: str):\n",
    "    \"\"\"\n",
    "    Fetches past or historical stock price data for a single ticker using Yahoo Finance.\n",
    "\n",
    "    Args:\n",
    "        symbols: A list of stock ticker symbols (e.g., ['AAPL', 'MSFT'])..\n",
    "        period: Time span for historical data (e.g., '1d', '5d', '1mo', '3mo', '6mo', '1y', '2y', '5y', '10y', 'ytd', 'max').\n",
    "        interval: Data granularity (e.g., '1m', '5m', '15m', '1h', '1d', '1wk', '1mo', '3mo').\n",
    "\n",
    "    Guidance:\n",
    "        - If 'interval' is not specified, the LLM should pick an appropriate one based on 'period'.\n",
    "        - For periods <= '1y', prefer '1wk'.\n",
    "        - For > '1y', prefer '1mo'.\n",
    "        - Aim for ~30–300 data points for readability.\n",
    "        \n",
    "    Returns:\n",
    "        Historical price DataFrame as a string, or an error message if the inputs are invalid.\n",
    "    \"\"\"\n",
    "    data = {}\n",
    "    for symbol in symbols:\n",
    "        data[symbol] = get_historical_prices_data(symbol, period, interval)\n",
    "    return data\n",
    "\n",
    "@tool\n",
    "def get_total_analysis_stock(symbol: str, period : str, interval : str) -> str:\n",
    "    \"\"\"\n",
    "    Generate an in-depth analysis and forecast of a stock.\n",
    "\n",
    "    Includes:\n",
    "        1. Sentiment analysis.\n",
    "        2. Key news drivers.\n",
    "        3. Short-term (1–4 weeks) and long-term (6+ months) outlooks.\n",
    "        4. Buy/Hold/Sell recommendation.\n",
    "\n",
    "    Args:\n",
    "        symbol (str): Company name or stock ticker.\n",
    "        period (str): Time period over which stock has to be analysed\n",
    "\n",
    "    Returns:\n",
    "        str: Comprehensive analysis report.\n",
    "    \"\"\"\n",
    "    result = get_total_analysis(symbol,period, interval)\n",
    "    return result\n",
    "    \n",
    "from langchain.tools import Tool\n",
    "# from langchain_experimental.tools import PythonREPLTool\n",
    "\n",
    "python_tool = Tool.from_function(\n",
    "    func=PythonREPLTool()._run,\n",
    "    name=\"python_repl\",\n",
    "    description=\"Use this tool to run Python code for math, stock indicators, data analysis, etc.\"\n",
    ")\n",
    "\n",
    "tools = [\n",
    "    python_tool,\n",
    "    get_all_companies_basic_details_,\n",
    "    buy_stocks,\n",
    "    get_current_stock_price,\n",
    "    get_recent_news_about_stock,\n",
    "    search_web,\n",
    "    get_historical_prices_data_of_stock,\n",
    "    get_total_analysis_stock\n",
    "]\n",
    "\n",
    "llm = init_chat_model('google_genai:gemini-2.0-flash')\n",
    "llm_with_tools = llm.bind_tools(tools)"
   ]
  },
  {
   "cell_type": "code",
   "execution_count": 6,
   "id": "d7a5ed9a-9b32-4413-87bc-e679728b4c29",
   "metadata": {},
   "outputs": [],
   "source": [
    "# def chatbot_node(state : State) -> State:\n",
    "def chatbot_node(state : State):\n",
    "    msg = llm_with_tools.invoke(state['messages'])\n",
    "    return {'messages' : [msg]}\n",
    "\n",
    "builder = StateGraph(State)\n",
    "\n",
    "builder.add_node('chatbot',chatbot_node)\n",
    "builder.add_node('tools',ToolNode(tools))\n",
    "\n",
    "builder.add_edge(START,'chatbot')\n",
    "builder.add_conditional_edges('chatbot',tools_condition)\n",
    "builder.add_edge('tools','chatbot')\n",
    "builder.add_edge('chatbot',END)\n",
    "\n",
    "graph = builder.compile(checkpointer=memory)"
   ]
  },
  {
   "cell_type": "code",
   "execution_count": 7,
   "id": "1797ab6c-df0d-4de5-b28a-4bb3d93d5dd5",
   "metadata": {},
   "outputs": [
    {
     "data": {
      "image/png": "[encoded data removed]",
      "text/plain": [
       "<IPython.core.display.Image object>"
      ]
     },
     "metadata": {},
     "output_type": "display_data"
    }
   ],
   "source": [
    "from IPython.display import Image,display\n",
    "\n",
    "display(Image(graph.get_graph().draw_mermaid_png()))"
   ]
  },
  {
   "cell_type": "code",
   "execution_count": 8,
   "id": "1f512dfc-85cc-4067-8fcb-f35d2db1c7b3",
   "metadata": {},
   "outputs": [
    {
     "name": "stdin",
     "output_type": "stream",
     "text": [
      "You : Deeply analyse Microsoft stock of past 5 year and prepare detailed report from it\n"
     ]
    },
    {
     "name": "stdout",
     "output_type": "stream",
     "text": [
      "You : Deeply analyse Microsoft stock of past 5 year and prepare detailed report from it\n"
     ]
    },
    {
     "name": "stderr",
     "output_type": "stream",
     "text": [
      "[*********************100%***********************]  1 of 1 completed\n"
     ]
    },
    {
     "name": "stdout",
     "output_type": "stream",
     "text": [
      "Bot : Here is a detailed analysis of Microsoft (MSFT) stock based on the past 5 years:\n",
      "\n",
      "**Overall Performance:**\n",
      "\n",
      "*   **Trend:** The stock has generally increased over the past 5 years.\n",
      "*   **Volatility:** Medium. There have been significant price swings, but not extreme daily volatility.\n",
      "*   **Returns:** The stock has had a total return of 137.74%, with an average monthly return of approximately 2.33%.\n",
      "*   **Volume Insights:** Trading volume has been inconsistent, with spikes during price corrections.\n",
      "\n",
      "**Technical Indicators:**\n",
      "\n",
      "*   **RSI (14-day approximation):** Likely Overbought (based on recent price increases).\n",
      "*   **MACD (approximation):** Bullish.\n",
      "*   **SMA (50-day approximation):** Indicates a continuation of the upward trend.\n",
      "\n",
      "**News Sentiment:**\n",
      "\n",
      "*   Positive, driven by institutional investment and analyst price target increases.\n",
      "\n",
      "**Key News Drivers:**\n",
      "\n",
      "*   **Institutional Investment:** Firms purchasing MSFT shares suggests confidence in the stock’s future performance.\n",
      "*   **Analyst Upgrades:** Analysts expect the stock price to rise.\n",
      "*   **Trading Strategies:** AI-driven trading strategies indicate active interest and potential for price movement.\n",
      "\n",
      "**Outlooks:**\n",
      "\n",
      "*   **Short-Term (1–4 Weeks):** Expected to rise due to positive news sentiment and technical indicators. However, the potential overbought RSI warrants caution.\n",
      "*   **Long-Term (6+ Months):** High growth potential due to Microsoft's leadership in cloud computing, software, and AI.\n",
      "\n",
      "**Recommendation:**\n",
      "\n",
      "*   **Buy:** The overall trend is positive, with long-term growth potential, positive news sentiment, and strong technical indicators.\n",
      "\n",
      "\n",
      "\n"
     ]
    },
    {
     "name": "stdin",
     "output_type": "stream",
     "text": [
      "You : What stocks are current talk of the town?\n"
     ]
    },
    {
     "name": "stdout",
     "output_type": "stream",
     "text": [
      "You : What stocks are current talk of the town?\n",
      "Bot : Based on the search results, here are some of the stocks that are currently trending:\n",
      "\n",
      "*   **Top Gainers:** Jyong Biotech Ltd, Bel Fuse, Gentex Corp, Accelerant Holdings\n",
      "*   **Most Active:** Intel Corp, Opendoor Technologies, Tesla, NVIDIA Corp, Lucid Group, Warner Bros Discovery, Denison Mines Corp\n",
      "*   **Other Stocks Mentioned:** Palantir Technologies, Amazon, Semrush Holdings, Roku\n",
      "\n",
      "Please note that \"trending\" can mean different things (e.g., most discussed, biggest price increase, etc.). The stocks listed above are appearing frequently in financial news and market summaries.\n",
      "\n",
      "\n",
      "\n"
     ]
    },
    {
     "name": "stdin",
     "output_type": "stream",
     "text": [
      "You : What are the risks involved in investing in Tesla?\n"
     ]
    },
    {
     "name": "stdout",
     "output_type": "stream",
     "text": [
      "You : What are the risks involved in investing in Tesla?\n",
      "Bot : Investing in Tesla (TSLA) involves several risks that potential investors should consider:\n",
      "\n",
      "**Company-Specific Risks:**\n",
      "\n",
      "*   **Valuation:** TSLA stock trades at high valuation multiples, which may not be supported by growth, profitability, or innovation compared to peers.\n",
      "*   **Production and Operational Issues:** Tesla's future success depends on ramping up manufacturing capacity and infrastructure. Operational setbacks in new products like the Cybertruck and Robotaxi could negatively impact the stock.\n",
      "*   **Competition:** Tesla faces increasing competition from both legacy automakers and other EV manufacturers.\n",
      "*   **Cost and Affordability:** Tesla cars can be expensive for consumers to purchase, and costly for Tesla to make.\n",
      "*   **Key Person Risk:** Tesla is heavily reliant on its CEO, Elon Musk.\n",
      "*   **Carbon Credit Revenue:** Shifting political winds and market dynamics could hurt Tesla's profits, especially its revenue from carbon credits.\n",
      "\n",
      "**External Risks:**\n",
      "\n",
      "*   **Expiring U.S. Tax Credits:** The expiration of U.S. tax credits for electric vehicles could reduce demand for Tesla's vehicles.\n",
      "*   **Weak New Product Pipeline:** A lack of compelling new products could lead to slower growth.\n",
      "*   **Chinese Competition:** Tesla faces fierce competition from Chinese EV manufacturers.\n",
      "*   **Economic Factors:** General economic downturns or changes in consumer spending could affect demand for Tesla's products.\n",
      "\n",
      "**Other Considerations:**\n",
      "\n",
      "*   **Volatility:** Tesla's stock price can be highly volatile, making it a risky investment for those with a low-risk tolerance.\n",
      "*   **Margin Trading:** Trading Tesla stock on margin can magnify losses if the stock performs poorly.\n",
      "\n",
      "\n",
      "\n"
     ]
    },
    {
     "name": "stdin",
     "output_type": "stream",
     "text": [
      "You : What are revenue and net income of Apple for past 5 years?\n"
     ]
    },
    {
     "name": "stdout",
     "output_type": "stream",
     "text": [
      "You : What are revenue and net income of Apple for past 5 years?\n",
      "Bot : Here are Apple's revenue and net income for the past 5 fiscal years (ending in September):\n",
      "\n",
      "| Year | Revenue (billions USD) | Net Income (billions USD) |\n",
      "|---|---|---|\n",
      "| 2020 | 274.5 | 57.41 |\n",
      "| 2021 | 365.8 | 94.68 |\n",
      "| 2022 | 394.1 | 99.803 |\n",
      "| 2023 | 383.2 | 96.995 |\n",
      "| 2024 | 391.0 | 93.736 |\n",
      "\n",
      "\n",
      "\n"
     ]
    },
    {
     "name": "stdin",
     "output_type": "stream",
     "text": [
      "You : get me Tesla stock prices of past 5 years\n"
     ]
    },
    {
     "name": "stdout",
     "output_type": "stream",
     "text": [
      "You : get me Tesla stock prices of past 5 years\n"
     ]
    },
    {
     "name": "stderr",
     "output_type": "stream",
     "text": [
      "[*********************100%***********************]  1 of 1 completed\n"
     ]
    },
    {
     "name": "stdout",
     "output_type": "stream",
     "text": [
      "Bot : Here are the monthly closing prices for Tesla (TSLA) stock over the past 5 years (August 2020 - July 2025):\n",
      "\n",
      "| Date       | Close Price |\n",
      "|------------|-------------|\n",
      "| 2020-08-01 | 166.106674  |\n",
      "| 2020-09-01 | 143.003326  |\n",
      "| 2020-10-01 | 129.346664  |\n",
      "| 2020-11-01 | 189.199997  |\n",
      "| 2020-12-01 | 235.223328  |\n",
      "| 2021-01-01 | 264.510010  |\n",
      "| 2021-02-01 | 225.166672  |\n",
      "| 2021-03-01 | 222.643326  |\n",
      "| 2021-04-01 | 236.479996  |\n",
      "| 2021-05-01 | 208.406662  |\n",
      "| 2021-06-01 | 226.566666  |\n",
      "| 2021-07-01 | 229.066666  |\n",
      "| 2021-08-01 | 245.240005  |\n",
      "| 2021-09-01 | 258.493347  |\n",
      "| 2021-10-01 | 371.333344  |\n",
      "| 2021-11-01 | 381.586670  |\n",
      "| 2021-12-01 | 352.260010  |\n",
      "| 2022-01-01 | 312.239990  |\n",
      "| 2022-02-01 | 290.143341  |\n",
      "| 2022-03-01 | 359.200012  |\n",
      "| 2022-04-01 | 290.253326  |\n",
      "| 2022-05-01 | 252.753326  |\n",
      "| 2022-06-01 | 224.473328  |\n",
      "| 2022-07-01 | 297.149994  |\n",
      "| 2022-08-01 | 275.609985  |\n",
      "| 2022-09-01 | 265.250000  |\n",
      "| 2022-10-01 | 227.539993  |\n",
      "| 2022-11-01 | 194.699997  |\n",
      "| 2022-12-01 | 123.180000  |\n",
      "| 2023-01-01 | 173.220001  |\n",
      "| 2023-02-01 | 205.710007  |\n",
      "| 2023-03-01 | 207.460007  |\n",
      "| 2023-04-01 | 164.309998  |\n",
      "| 2023-05-01 | 203.929993  |\n",
      "| 2023-06-01 | 261.769989  |\n",
      "| 2023-07-01 | 267.429993  |\n",
      "| 2023-08-01 | 258.079987  |\n",
      "| 2023-09-01 | 250.220001  |\n",
      "| 2023-10-01 | 200.839996  |\n",
      "| 2023-11-01 | 240.080002  |\n",
      "| 2023-12-01 | 248.479996  |\n",
      "| 2024-01-01 | 187.289993  |\n",
      "| 2024-02-01 | 201.880005  |\n",
      "| 2024-03-01 | 175.789993  |\n",
      "| 2024-04-01 | 183.279999  |\n",
      "| 2024-05-01 | 178.080002  |\n",
      "| 2024-06-01 | 197.880005  |\n",
      "| 2024-07-01 | 232.070007  |\n",
      "| 2024-08-01 | 214.110001  |\n",
      "| 2024-09-01 | 261.630005  |\n",
      "| 2024-10-01 | 249.850006  |\n",
      "| 2024-11-01 | 345.160004  |\n",
      "| 2024-12-01 | 403.839996  |\n",
      "| 2025-01-01 | 404.600006  |\n",
      "| 2025-02-01 | 292.980011  |\n",
      "| 2025-03-01 | 259.160004  |\n",
      "| 2025-04-01 | 282.160004  |\n",
      "| 2025-05-01 | 346.459991  |\n",
      "| 2025-06-01 | 317.660004  |\n",
      "| 2025-07-01 | 316.059998  |\n",
      "\n",
      "\n",
      "\n"
     ]
    },
    {
     "name": "stdin",
     "output_type": "stream",
     "text": [
      "You : What are latest news about Blackrock\n"
     ]
    },
    {
     "name": "stdout",
     "output_type": "stream",
     "text": [
      "You : What are latest news about Blackrock\n",
      "Bot : Here's a summary of the latest news regarding BlackRock (BLK):\n",
      "\n",
      "*   **Insider Activity:** A Senior Managing Director sold 2,407 shares of BlackRock. Also, Representative Jefferson Shreve (R-Indiana) recently sold shares of BlackRock (NYSE:BLK).\n",
      "*   **M&A:** BlackRock's stock is climbing despite threats to its $22.8 billion Panama Ports deal.\n",
      "*   **Executive Changes:** A BlackRock veteran joined SharpLink Gaming as Co-CEO.\n",
      "*   **Dividends:** BlackRock declared a quarterly dividend of $5.21 on common stock.\n",
      "*   **Security Measures in China:** BlackRock is implementing new security measures for employees traveling to China, including restrictions on using company devices.\n",
      "*   **Q2 Performance:** BlackRock's stock reached new highs following a record-breaking Q2.\n",
      "\n",
      "\n",
      "\n"
     ]
    },
    {
     "name": "stdin",
     "output_type": "stream",
     "text": [
      "You : Compare the returns of Apple vs Tesla over the last 5 years.\n"
     ]
    },
    {
     "name": "stdout",
     "output_type": "stream",
     "text": [
      "You : Compare the returns of Apple vs Tesla over the last 5 years.\n"
     ]
    },
    {
     "name": "stderr",
     "output_type": "stream",
     "text": [
      "[*********************100%***********************]  1 of 1 completed\n",
      "[*********************100%***********************]  1 of 1 completed\n"
     ]
    },
    {
     "name": "stdout",
     "output_type": "stream",
     "text": [
      "Bot : Okay, let's compare the returns of Apple (AAPL) and Tesla (TSLA) over the past 5 years. I'll calculate the total return based on the closing prices from August 1, 2020, to July 1, 2025.\n",
      "\n",
      "**Apple (AAPL):**\n",
      "\n",
      "*   Initial Price (August 1, 2020): 125.435806\n",
      "*   Final Price (July 1, 2025): 213.880005\n",
      "*   Total Return: ((213.880005 - 125.435806) / 125.435806) \\* 100 = 70.51%\n",
      "\n",
      "**Tesla (TSLA):**\n",
      "\n",
      "*   Initial Price (August 1, 2020): 166.106674\n",
      "*   Final Price (July 1, 2025): 316.059998\n",
      "*   Total Return: ((316.059998 - 166.106674) / 166.106674) \\* 100 = 90.28%\n",
      "\n",
      "**Summary:**\n",
      "\n",
      "| Stock | Total Return (5 Years) |\n",
      "|---|---|\n",
      "| Apple (AAPL) | 70.51% |\n",
      "| Tesla (TSLA) | 90.28% |\n",
      "\n",
      "**Conclusion:**\n",
      "\n",
      "Over the past 5 years, Tesla (TSLA) has provided a higher return (90.28%) compared to Apple (AAPL) (70.51%).\n",
      "\n",
      "\n",
      "\n"
     ]
    },
    {
     "name": "stdin",
     "output_type": "stream",
     "text": [
      "You : exit\n"
     ]
    },
    {
     "name": "stdout",
     "output_type": "stream",
     "text": [
      "You : exit\n"
     ]
    }
   ],
   "source": [
    "config = {'configurable': {'thread_id': 'buy_thread'}}\n",
    "\n",
    "state = None\n",
    "while True:\n",
    "    in_message = input('You :')\n",
    "    print('You :',in_message)\n",
    "    if in_message.lower() in {'quit', 'exit'}:\n",
    "        break\n",
    "\n",
    "    if state is None:\n",
    "        # First message, initialize message list\n",
    "        messages = [\n",
    "        {\"role\": \"system\", \"content\": \"You have access to a Python code tool. Use it for any math, stock indicator, or data analysis tasks.\"},\n",
    "        {\"role\": \"user\", \"content\": in_message}\n",
    "        ]\n",
    "\n",
    "    else:\n",
    "        # Continue the conversation \n",
    "        messages = state['messages'] + [{'role': 'user', 'content': in_message}]\n",
    "        \n",
    "    state = graph.invoke({'messages': messages}, config=config)\n",
    "    print(\"Bot :\", state['messages'][-1].content)\n",
    "    print('\\n\\n')\n"
   ]
  },
  {
   "cell_type": "code",
   "execution_count": 9,
   "id": "3082e351-4708-452d-8ca8-ba19ad04c112",
   "metadata": {},
   "outputs": [],
   "source": [
    "# state['messages'][-4].content"
   ]
  }
 ],
 "metadata": {
  "kernelspec": {
   "display_name": "Python (airline-env)",
   "language": "python",
   "name": "airline-env"
  },
  "language_info": {
   "codemirror_mode": {
    "name": "ipython",
    "version": 3
   },
   "file_extension": ".py",
   "mimetype": "text/x-python",
   "name": "python",
   "nbconvert_exporter": "python",
   "pygments_lexer": "ipython3",
   "version": "3.10.0"
  }
 },
 "nbformat": 4,
 "nbformat_minor": 5
}
